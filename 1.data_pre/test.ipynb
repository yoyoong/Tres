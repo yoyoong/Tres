{
 "cells": [
  {
   "cell_type": "code",
   "execution_count": 3,
   "id": "initial_id",
   "metadata": {
    "collapsed": true,
    "ExecuteTime": {
     "end_time": "2024-04-25T08:40:24.288772500Z",
     "start_time": "2024-04-25T08:37:47.230444900Z"
    }
   },
   "outputs": [],
   "source": [
    "import argparse\n",
    "import os\n",
    "import sys\n",
    "import numpy as np\n",
    "import pandas as pd\n",
    "import h5py\n",
    "import scanpy as sc\n",
    "from scipy.sparse import coo_matrix\n",
    "\n",
    "# parser = argparse.ArgumentParser()\n",
    "# parser.add_argument('-E', \"--expression_path\", type=str, required=False, help=\"Gene expression file.\",\n",
    "#                     default='/sibcb2/bioinformatics2/hongyuyang/dataset/Tres/2.tisch_data/1.neutrophil_data/Gao2024/test.txt')\n",
    "# parser.add_argument('-D', \"--output_file_directory\", type=str, required=False, help=\"Directory for output files.\",\n",
    "#                     default='/sibcb2/bioinformatics2/hongyuyang/dataset/Tres/2.tisch_data/1.neutrophil_data/2.gem_data')\n",
    "# parser.add_argument('-O', \"--output_tag\", type=str, required=False, help=\"Prefix for output files.\",\n",
    "#                     default='Gao2024.Neutrophils')\n",
    "# args = parser.parse_args()\n",
    "\n",
    "expression_path = '/sibcb2/bioinformatics2/hongyuyang/dataset/Tres/2.tisch_data/1.neutrophil_data/Gao2024/test.txt'\n",
    "output_file_directory = '/sibcb2/bioinformatics2/hongyuyang/dataset/Tres/2.tisch_data/1.neutrophil_data/2.gem_data'\n",
    "output_tag = 'Gao2024.Neutrophils'\n",
    "\n",
    "if os.path.isdir(expression_path):\n",
    "    print(f\"This dataset don't need process.\")\n",
    "    sys.exit(1)\n",
    "gem_df = pd.read_csv(expression_path, index_col=0, header=0)\n"
   ]
  },
  {
   "cell_type": "code",
   "outputs": [],
   "source": [
    "sample_list = []\n",
    "sample_flag = []\n",
    "for column in gem_df.columns:\n",
    "    column_list = column.split('_')\n",
    "    if 'OA902' in column:\n",
    "        sample_flag.append(False)\n",
    "        continue\n",
    "    sample_flag.append(True)\n",
    "    if len(column_list) == 2:\n",
    "        if 'OA089' in column:\n",
    "            sample_list.append(\"_\".join([column_list[0], column.split('-')[-1]]))\n",
    "        else:\n",
    "            sample_list.append(column_list[0])\n",
    "    elif len(column_list) == 3:\n",
    "        sample_list.append(\"_\".join(column_list[0:-1]))\n",
    "    elif len(column_list) == 4:\n",
    "        sample_list.append(\"_\".join(column_list[0:-1]))\n",
    "    elif len(column_list) == 5:\n",
    "        if 'OA091_A012_ICC' in column or 'OA091_A048_ICC' in column:\n",
    "            sample_list.append(\"_\".join(column_list[0:-1]))\n",
    "        else:\n",
    "            sample_list.append(\"_\".join(column_list[0:3]))\n",
    "    elif len(column_list) == 6:\n",
    "        sample_list.append(\"_\".join(column_list[0:3]))\n",
    "    elif len(column_list) == 8:\n",
    "        sample_list.append(\"_\".join(column_list[0:4]))\n",
    "    elif len(column_list) == 9:\n",
    "        sample_list.append(\"_\".join(column_list[0:1] + column_list[-2:]))\n",
    "    elif len(column_list) == 10:\n",
    "        sample_list.append(\"_\".join(column_list[0:1]))\n",
    "gem_filtered = gem_df.loc[:, sample_flag]\n",
    "gem_filtered.columns = ['.0'.join(['Neutrophils', sample_name, cell_name]) for (sample_name, cell_name) in\n",
    "                        zip(sample_list, list(gem_filtered.columns)) ]"
   ],
   "metadata": {
    "collapsed": false,
    "ExecuteTime": {
     "end_time": "2024-04-26T07:52:03.598550900Z",
     "start_time": "2024-04-26T07:52:03.396845200Z"
    }
   },
   "id": "9979abbbdaeae3b7",
   "execution_count": 66
  },
  {
   "cell_type": "code",
   "outputs": [],
   "source": [
    "import numpy as np\n",
    "import random\n",
    "\n",
    "# all gene sets\n",
    "signature = []\n",
    "fin = open('/sibcb2/bioinformatics2/hongyuyang/dataset/Tres/0.model_file/Tres.kegg')\n",
    "for l in fin:\n",
    "    fields = l.strip().split('\\t')\n",
    "    s = fields[2:]\n",
    "    signature.append(pd.Series(np.ones(len(s)), index=s, name=fields[0]))\n",
    "fin.close()\n",
    "\n",
    "# 此时signature是每个kegg通路的基因名，行为通路，列为基因\n",
    "signature = pd.concat(signature, axis=1, join='outer', sort=False) # 将通路的所有基因都作为一列，形成一个基因数*通路数的矩阵\n",
    "signature.fillna(0, inplace=True) # 将通路中不存在的基因的值由nan变成0\n",
    "all_gene_list = list(signature.index)\n",
    "\n",
    "random_geneset = []\n",
    "for i in range(100):\n",
    "    random_gene = random.choice(all_gene_list)\n",
    "    if random_gene not in random_geneset:\n",
    "        random_geneset.append(random_gene)\n",
    "\n",
    "with open('/sibcb2/bioinformatics2/hongyuyang/dataset/Tres/0.model_file/Tres_kegg.Neutrophils_random.txt', mode='a') as file:\n",
    "    file.write('Neutrophils_signature\\thttps://www.cell.com/cancer-cell/fulltext/S1535-6108(23)00433-6')\n",
    "    for gene in random_geneset:\n",
    "        file.write('\\t' + gene)"
   ],
   "metadata": {
    "collapsed": false,
    "ExecuteTime": {
     "end_time": "2024-04-26T08:42:33.789703200Z",
     "start_time": "2024-04-26T08:42:33.679173500Z"
    }
   },
   "id": "5a08e83057c57c69",
   "execution_count": 74
  },
  {
   "cell_type": "code",
   "outputs": [
    {
     "data": {
      "text/plain": "   A  B  C\n0  1  5  2\n1  2  4  3\n2  3  3  4\n3  4  2  5\n4  5  1  6",
      "text/html": "<div>\n<style scoped>\n    .dataframe tbody tr th:only-of-type {\n        vertical-align: middle;\n    }\n\n    .dataframe tbody tr th {\n        vertical-align: top;\n    }\n\n    .dataframe thead th {\n        text-align: right;\n    }\n</style>\n<table border=\"1\" class=\"dataframe\">\n  <thead>\n    <tr style=\"text-align: right;\">\n      <th></th>\n      <th>A</th>\n      <th>B</th>\n      <th>C</th>\n    </tr>\n  </thead>\n  <tbody>\n    <tr>\n      <th>0</th>\n      <td>1</td>\n      <td>5</td>\n      <td>2</td>\n    </tr>\n    <tr>\n      <th>1</th>\n      <td>2</td>\n      <td>4</td>\n      <td>3</td>\n    </tr>\n    <tr>\n      <th>2</th>\n      <td>3</td>\n      <td>3</td>\n      <td>4</td>\n    </tr>\n    <tr>\n      <th>3</th>\n      <td>4</td>\n      <td>2</td>\n      <td>5</td>\n    </tr>\n    <tr>\n      <th>4</th>\n      <td>5</td>\n      <td>1</td>\n      <td>6</td>\n    </tr>\n  </tbody>\n</table>\n</div>"
     },
     "execution_count": 1,
     "metadata": {},
     "output_type": "execute_result"
    }
   ],
   "source": [
    "import pandas as pd\n",
    "\n",
    "df = pd.DataFrame({\n",
    "    'A': [1, 2, 3, 4, 5],\n",
    "    'B': [5, 4, 3, 2, 1],\n",
    "    'C': [2, 3, 4, 5, 6]\n",
    "})\n",
    "df"
   ],
   "metadata": {
    "collapsed": false,
    "ExecuteTime": {
     "end_time": "2024-04-29T06:02:35.187447Z",
     "start_time": "2024-04-29T06:02:35.149921600Z"
    }
   },
   "id": "71104c2d35dfcba2",
   "execution_count": 1
  },
  {
   "cell_type": "code",
   "outputs": [
    {
     "data": {
      "text/plain": "          A         B         C\n0 -1.666667  2.333333 -0.666667\n1 -1.000000  1.000000  0.000000\n2 -0.333333 -0.333333  0.666667\n3  0.333333 -1.666667  1.333333\n4  1.000000 -3.000000  2.000000",
      "text/html": "<div>\n<style scoped>\n    .dataframe tbody tr th:only-of-type {\n        vertical-align: middle;\n    }\n\n    .dataframe tbody tr th {\n        vertical-align: top;\n    }\n\n    .dataframe thead th {\n        text-align: right;\n    }\n</style>\n<table border=\"1\" class=\"dataframe\">\n  <thead>\n    <tr style=\"text-align: right;\">\n      <th></th>\n      <th>A</th>\n      <th>B</th>\n      <th>C</th>\n    </tr>\n  </thead>\n  <tbody>\n    <tr>\n      <th>0</th>\n      <td>-1.666667</td>\n      <td>2.333333</td>\n      <td>-0.666667</td>\n    </tr>\n    <tr>\n      <th>1</th>\n      <td>-1.000000</td>\n      <td>1.000000</td>\n      <td>0.000000</td>\n    </tr>\n    <tr>\n      <th>2</th>\n      <td>-0.333333</td>\n      <td>-0.333333</td>\n      <td>0.666667</td>\n    </tr>\n    <tr>\n      <th>3</th>\n      <td>0.333333</td>\n      <td>-1.666667</td>\n      <td>1.333333</td>\n    </tr>\n    <tr>\n      <th>4</th>\n      <td>1.000000</td>\n      <td>-3.000000</td>\n      <td>2.000000</td>\n    </tr>\n  </tbody>\n</table>\n</div>"
     },
     "execution_count": 3,
     "metadata": {},
     "output_type": "execute_result"
    }
   ],
   "source": [
    "df = df.subtract(df.mean(axis=1), axis=0)\n",
    "df"
   ],
   "metadata": {
    "collapsed": false,
    "ExecuteTime": {
     "end_time": "2024-04-29T06:02:42.071135200Z",
     "start_time": "2024-04-29T06:02:42.069135Z"
    }
   },
   "id": "9cdbb23db3dcc146",
   "execution_count": 3
  },
  {
   "cell_type": "code",
   "outputs": [],
   "source": [],
   "metadata": {
    "collapsed": false
   },
   "id": "41d3b445be4b3590"
  }
 ],
 "metadata": {
  "kernelspec": {
   "display_name": "Python 3",
   "language": "python",
   "name": "python3"
  },
  "language_info": {
   "codemirror_mode": {
    "name": "ipython",
    "version": 2
   },
   "file_extension": ".py",
   "mimetype": "text/x-python",
   "name": "python",
   "nbconvert_exporter": "python",
   "pygments_lexer": "ipython2",
   "version": "2.7.6"
  }
 },
 "nbformat": 4,
 "nbformat_minor": 5
}
