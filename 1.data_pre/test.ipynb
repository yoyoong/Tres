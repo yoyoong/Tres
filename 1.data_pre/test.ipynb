{
 "cells": [
  {
   "cell_type": "code",
   "execution_count": 3,
   "id": "initial_id",
   "metadata": {
    "collapsed": true,
    "ExecuteTime": {
     "end_time": "2024-04-25T08:40:24.288772500Z",
     "start_time": "2024-04-25T08:37:47.230444900Z"
    }
   },
   "outputs": [],
   "source": [
    "import argparse\n",
    "import os\n",
    "import sys\n",
    "import numpy as np\n",
    "import pandas as pd\n",
    "import h5py\n",
    "import scanpy as sc\n",
    "from scipy.sparse import coo_matrix\n",
    "\n",
    "# parser = argparse.ArgumentParser()\n",
    "# parser.add_argument('-E', \"--expression_path\", type=str, required=False, help=\"Gene expression file.\",\n",
    "#                     default='/sibcb2/bioinformatics2/hongyuyang/dataset/Tres/2.tisch_data/1.neutrophil_data/Gao2024/test.txt')\n",
    "# parser.add_argument('-D', \"--output_file_directory\", type=str, required=False, help=\"Directory for output files.\",\n",
    "#                     default='/sibcb2/bioinformatics2/hongyuyang/dataset/Tres/2.tisch_data/1.neutrophil_data/2.gem_data')\n",
    "# parser.add_argument('-O', \"--output_tag\", type=str, required=False, help=\"Prefix for output files.\",\n",
    "#                     default='Gao2024.Neutrophils')\n",
    "# args = parser.parse_args()\n",
    "\n",
    "expression_path = '/sibcb2/bioinformatics2/hongyuyang/dataset/Tres/2.tisch_data/1.neutrophil_data/Gao2024/test.txt'\n",
    "output_file_directory = '/sibcb2/bioinformatics2/hongyuyang/dataset/Tres/2.tisch_data/1.neutrophil_data/2.gem_data'\n",
    "output_tag = 'Gao2024.Neutrophils'\n",
    "\n",
    "if os.path.isdir(expression_path):\n",
    "    print(f\"This dataset don't need process.\")\n",
    "    sys.exit(1)\n",
    "gem_df = pd.read_csv(expression_path, index_col=0, header=0)\n"
   ]
  },
  {
   "cell_type": "code",
   "outputs": [],
   "source": [
    "sample_list = []\n",
    "sample_flag = []\n",
    "for column in gem_df.columns:\n",
    "    column_list = column.split('_')\n",
    "    if 'OA902' in column:\n",
    "        sample_flag.append(False)\n",
    "        continue\n",
    "    sample_flag.append(True)\n",
    "    if len(column_list) == 2:\n",
    "        if 'OA089' in column:\n",
    "            sample_list.append(\"_\".join([column_list[0], column.split('-')[-1]]))\n",
    "        else:\n",
    "            sample_list.append(column_list[0])\n",
    "    elif len(column_list) == 3:\n",
    "        sample_list.append(\"_\".join(column_list[0:-1]))\n",
    "    elif len(column_list) == 4:\n",
    "        sample_list.append(\"_\".join(column_list[0:-1]))\n",
    "    elif len(column_list) == 5:\n",
    "        if 'OA091_A012_ICC' in column or 'OA091_A048_ICC' in column:\n",
    "            sample_list.append(\"_\".join(column_list[0:-1]))\n",
    "        else:\n",
    "            sample_list.append(\"_\".join(column_list[0:3]))\n",
    "    elif len(column_list) == 6:\n",
    "        sample_list.append(\"_\".join(column_list[0:3]))\n",
    "    elif len(column_list) == 8:\n",
    "        sample_list.append(\"_\".join(column_list[0:4]))\n",
    "    elif len(column_list) == 9:\n",
    "        sample_list.append(\"_\".join(column_list[0:1] + column_list[-2:]))\n",
    "    elif len(column_list) == 10:\n",
    "        sample_list.append(\"_\".join(column_list[0:1]))\n",
    "gem_filtered = gem_df.loc[:, sample_flag]\n",
    "gem_filtered.columns = ['.0'.join(['Neutrophils', sample_name, cell_name]) for (sample_name, cell_name) in\n",
    "                        zip(sample_list, list(gem_filtered.columns)) ]"
   ],
   "metadata": {
    "collapsed": false,
    "ExecuteTime": {
     "end_time": "2024-04-26T07:52:03.598550900Z",
     "start_time": "2024-04-26T07:52:03.396845200Z"
    }
   },
   "id": "9979abbbdaeae3b7",
   "execution_count": 66
  },
  {
   "cell_type": "code",
   "outputs": [],
   "source": [
    "import numpy as np\n",
    "import random\n",
    "\n",
    "# all gene sets\n",
    "signature = []\n",
    "fin = open('/sibcb2/bioinformatics2/hongyuyang/dataset/Tres/0.model_file/Tres.kegg')\n",
    "for l in fin:\n",
    "    fields = l.strip().split('\\t')\n",
    "    s = fields[2:]\n",
    "    signature.append(pd.Series(np.ones(len(s)), index=s, name=fields[0]))\n",
    "fin.close()\n",
    "\n",
    "# 此时signature是每个kegg通路的基因名，行为通路，列为基因\n",
    "signature = pd.concat(signature, axis=1, join='outer', sort=False) # 将通路的所有基因都作为一列，形成一个基因数*通路数的矩阵\n",
    "signature.fillna(0, inplace=True) # 将通路中不存在的基因的值由nan变成0\n",
    "all_gene_list = list(signature.index)\n",
    "\n",
    "random_geneset = []\n",
    "for i in range(100):\n",
    "    random_gene = random.choice(all_gene_list)\n",
    "    if random_gene not in random_geneset:\n",
    "        random_geneset.append(random_gene)\n",
    "\n",
    "with open('/sibcb2/bioinformatics2/hongyuyang/dataset/Tres/0.model_file/Tres_kegg.Neutrophils_random.txt', mode='a') as file:\n",
    "    file.write('Neutrophils_signature\\thttps://www.cell.com/cancer-cell/fulltext/S1535-6108(23)00433-6')\n",
    "    for gene in random_geneset:\n",
    "        file.write('\\t' + gene)"
   ],
   "metadata": {
    "collapsed": false,
    "ExecuteTime": {
     "end_time": "2024-04-26T08:42:33.789703200Z",
     "start_time": "2024-04-26T08:42:33.679173500Z"
    }
   },
   "id": "5a08e83057c57c69",
   "execution_count": 74
  },
  {
   "cell_type": "code",
   "outputs": [],
   "source": [],
   "metadata": {
    "collapsed": false
   },
   "id": "71104c2d35dfcba2"
  }
 ],
 "metadata": {
  "kernelspec": {
   "display_name": "Python 3",
   "language": "python",
   "name": "python3"
  },
  "language_info": {
   "codemirror_mode": {
    "name": "ipython",
    "version": 2
   },
   "file_extension": ".py",
   "mimetype": "text/x-python",
   "name": "python",
   "nbconvert_exporter": "python",
   "pygments_lexer": "ipython2",
   "version": "2.7.6"
  }
 },
 "nbformat": 4,
 "nbformat_minor": 5
}
