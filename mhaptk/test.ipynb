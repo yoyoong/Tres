{
 "cells": [
  {
   "cell_type": "code",
   "execution_count": 11,
   "id": "initial_id",
   "metadata": {
    "collapsed": true,
    "ExecuteTime": {
     "end_time": "2024-04-19T13:46:32.794752100Z",
     "start_time": "2024-04-19T13:46:24.570651700Z"
    }
   },
   "outputs": [],
   "source": [
    "import pandas as pd\n",
    "\n",
    "data1 = pd.read_excel('C:\\\\Users\\\\94835\\\\Downloads\\\\lsrnase0419.xlsx', index_col=1, header=0)\n",
    "data2 = pd.read_excel('C:\\\\Users\\\\94835\\\\Downloads\\\\membrane protein_final.xlsx', index_col=0, header=None)\n",
    "\n",
    "data1_filter = data1.loc[data2.index]\n",
    "data1_filter.to_csv('C:\\\\Users\\\\94835\\\\Downloads\\\\result.csv')"
   ]
  },
  {
   "cell_type": "code",
   "outputs": [
    {
     "data": {
      "text/plain": "                 gene_id  YJX-P1-CM1_FPKM  TVR-P1-CM1_FPKM  P1_N_2_FPKM  \\\n0                                                                         \nTSPAN6   ENSG00000000003          27.9751          25.9175     30.38430   \nSLC7A2   ENSG00000003989          11.3952          27.0045     11.22640   \nLAMP2    ENSG00000005893         143.4420         150.9670    128.94000   \nST3GAL1  ENSG00000008513          12.3984          13.7192      8.74306   \nPTBP1    ENSG00000011304          64.8575          57.6211     67.20490   \n...                  ...              ...              ...          ...   \nARPC4    ENSG00000241553          47.9926          46.3450     81.15130   \nN4BP2L2  ENSG00000244754          39.8743          46.5570     23.33700   \nTUBB3    ENSG00000258947          43.6731          39.8167     73.59720   \nGTF2I    ENSG00000263001          44.5076          67.1739     70.33430   \nRBM8A    ENSG00000265241          58.6093          41.4032     50.14280   \n\n         P4_N_4_FPKM  YJX-P5-CHIR1_FPKM  TVR-P5-CHIR1_FPKM  \n0                                                           \nTSPAN6      27.60460           43.09660           48.39210  \nSLC7A2       9.22421            8.91264            7.58708  \nLAMP2      119.32600          116.56200          153.51800  \nST3GAL1     31.36060           26.15360           28.64560  \nPTBP1       70.44180           69.50370           73.85180  \n...              ...                ...                ...  \nARPC4       83.24650           52.01700           58.12940  \nN4BP2L2     24.33430           37.17330           33.93500  \nTUBB3      146.52000           62.90190           50.70820  \nGTF2I       55.20200           61.18010           66.94360  \nRBM8A       56.18470           61.47370           56.63870  \n\n[1803 rows x 7 columns]",
      "text/html": "<div>\n<style scoped>\n    .dataframe tbody tr th:only-of-type {\n        vertical-align: middle;\n    }\n\n    .dataframe tbody tr th {\n        vertical-align: top;\n    }\n\n    .dataframe thead th {\n        text-align: right;\n    }\n</style>\n<table border=\"1\" class=\"dataframe\">\n  <thead>\n    <tr style=\"text-align: right;\">\n      <th></th>\n      <th>gene_id</th>\n      <th>YJX-P1-CM1_FPKM</th>\n      <th>TVR-P1-CM1_FPKM</th>\n      <th>P1_N_2_FPKM</th>\n      <th>P4_N_4_FPKM</th>\n      <th>YJX-P5-CHIR1_FPKM</th>\n      <th>TVR-P5-CHIR1_FPKM</th>\n    </tr>\n    <tr>\n      <th>0</th>\n      <th></th>\n      <th></th>\n      <th></th>\n      <th></th>\n      <th></th>\n      <th></th>\n      <th></th>\n    </tr>\n  </thead>\n  <tbody>\n    <tr>\n      <th>TSPAN6</th>\n      <td>ENSG00000000003</td>\n      <td>27.9751</td>\n      <td>25.9175</td>\n      <td>30.38430</td>\n      <td>27.60460</td>\n      <td>43.09660</td>\n      <td>48.39210</td>\n    </tr>\n    <tr>\n      <th>SLC7A2</th>\n      <td>ENSG00000003989</td>\n      <td>11.3952</td>\n      <td>27.0045</td>\n      <td>11.22640</td>\n      <td>9.22421</td>\n      <td>8.91264</td>\n      <td>7.58708</td>\n    </tr>\n    <tr>\n      <th>LAMP2</th>\n      <td>ENSG00000005893</td>\n      <td>143.4420</td>\n      <td>150.9670</td>\n      <td>128.94000</td>\n      <td>119.32600</td>\n      <td>116.56200</td>\n      <td>153.51800</td>\n    </tr>\n    <tr>\n      <th>ST3GAL1</th>\n      <td>ENSG00000008513</td>\n      <td>12.3984</td>\n      <td>13.7192</td>\n      <td>8.74306</td>\n      <td>31.36060</td>\n      <td>26.15360</td>\n      <td>28.64560</td>\n    </tr>\n    <tr>\n      <th>PTBP1</th>\n      <td>ENSG00000011304</td>\n      <td>64.8575</td>\n      <td>57.6211</td>\n      <td>67.20490</td>\n      <td>70.44180</td>\n      <td>69.50370</td>\n      <td>73.85180</td>\n    </tr>\n    <tr>\n      <th>...</th>\n      <td>...</td>\n      <td>...</td>\n      <td>...</td>\n      <td>...</td>\n      <td>...</td>\n      <td>...</td>\n      <td>...</td>\n    </tr>\n    <tr>\n      <th>ARPC4</th>\n      <td>ENSG00000241553</td>\n      <td>47.9926</td>\n      <td>46.3450</td>\n      <td>81.15130</td>\n      <td>83.24650</td>\n      <td>52.01700</td>\n      <td>58.12940</td>\n    </tr>\n    <tr>\n      <th>N4BP2L2</th>\n      <td>ENSG00000244754</td>\n      <td>39.8743</td>\n      <td>46.5570</td>\n      <td>23.33700</td>\n      <td>24.33430</td>\n      <td>37.17330</td>\n      <td>33.93500</td>\n    </tr>\n    <tr>\n      <th>TUBB3</th>\n      <td>ENSG00000258947</td>\n      <td>43.6731</td>\n      <td>39.8167</td>\n      <td>73.59720</td>\n      <td>146.52000</td>\n      <td>62.90190</td>\n      <td>50.70820</td>\n    </tr>\n    <tr>\n      <th>GTF2I</th>\n      <td>ENSG00000263001</td>\n      <td>44.5076</td>\n      <td>67.1739</td>\n      <td>70.33430</td>\n      <td>55.20200</td>\n      <td>61.18010</td>\n      <td>66.94360</td>\n    </tr>\n    <tr>\n      <th>RBM8A</th>\n      <td>ENSG00000265241</td>\n      <td>58.6093</td>\n      <td>41.4032</td>\n      <td>50.14280</td>\n      <td>56.18470</td>\n      <td>61.47370</td>\n      <td>56.63870</td>\n    </tr>\n  </tbody>\n</table>\n<p>1803 rows × 7 columns</p>\n</div>"
     },
     "execution_count": 12,
     "metadata": {},
     "output_type": "execute_result"
    }
   ],
   "source": [
    "data1_filter"
   ],
   "metadata": {
    "collapsed": false,
    "ExecuteTime": {
     "end_time": "2024-04-19T13:46:32.810474300Z",
     "start_time": "2024-04-19T13:46:32.796850600Z"
    }
   },
   "id": "9aee06a879cdbb74",
   "execution_count": 12
  },
  {
   "cell_type": "code",
   "outputs": [],
   "source": [],
   "metadata": {
    "collapsed": false
   },
   "id": "32360e3fea57d90e"
  }
 ],
 "metadata": {
  "kernelspec": {
   "display_name": "Python 3",
   "language": "python",
   "name": "python3"
  },
  "language_info": {
   "codemirror_mode": {
    "name": "ipython",
    "version": 2
   },
   "file_extension": ".py",
   "mimetype": "text/x-python",
   "name": "python",
   "nbconvert_exporter": "python",
   "pygments_lexer": "ipython2",
   "version": "2.7.6"
  }
 },
 "nbformat": 4,
 "nbformat_minor": 5
}
