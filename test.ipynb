{
 "cells": [
  {
   "cell_type": "code",
   "execution_count": 1,
   "id": "initial_id",
   "metadata": {
    "collapsed": true,
    "ExecuteTime": {
     "end_time": "2024-04-09T04:44:04.029860600Z",
     "start_time": "2024-04-09T04:43:45.762288100Z"
    }
   },
   "outputs": [
    {
     "ename": "LibrdataError",
     "evalue": "The file contains an unrecognized object",
     "output_type": "error",
     "traceback": [
      "\u001B[0;31m---------------------------------------------------------------------------\u001B[0m",
      "\u001B[0;31mLibrdataError\u001B[0m                             Traceback (most recent call last)",
      "Cell \u001B[0;32mIn[1], line 3\u001B[0m\n\u001B[1;32m      1\u001B[0m \u001B[38;5;28;01mimport\u001B[39;00m \u001B[38;5;21;01mpyreadr\u001B[39;00m\n\u001B[1;32m      2\u001B[0m path \u001B[38;5;241m=\u001B[39m \u001B[38;5;124m'\u001B[39m\u001B[38;5;124m/sibcb2/bioinformatics2/hongyuyang/dataset/Tres/4.macrophage/GSE168710/GSE168710_QC_normalized_exp.rds\u001B[39m\u001B[38;5;124m'\u001B[39m\n\u001B[0;32m----> 3\u001B[0m file \u001B[38;5;241m=\u001B[39m \u001B[43mpyreadr\u001B[49m\u001B[38;5;241;43m.\u001B[39;49m\u001B[43mread_r\u001B[49m\u001B[43m(\u001B[49m\u001B[43mpath\u001B[49m\u001B[43m)\u001B[49m\n\u001B[1;32m      4\u001B[0m \u001B[38;5;28mprint\u001B[39m(file\u001B[38;5;241m.\u001B[39mkeys())\n",
      "File \u001B[0;32m~/software/anaconda3/envs/Tres/lib/python3.10/site-packages/pyreadr/pyreadr.py:66\u001B[0m, in \u001B[0;36mread_r\u001B[0;34m(path, use_objects, timezone)\u001B[0m\n\u001B[1;32m     64\u001B[0m \u001B[38;5;28;01mif\u001B[39;00m \u001B[38;5;129;01mnot\u001B[39;00m os\u001B[38;5;241m.\u001B[39mpath\u001B[38;5;241m.\u001B[39misfile(filename_bytes):\n\u001B[1;32m     65\u001B[0m     \u001B[38;5;28;01mraise\u001B[39;00m PyreadrError(\u001B[38;5;124m\"\u001B[39m\u001B[38;5;124mFile \u001B[39m\u001B[38;5;132;01m{0}\u001B[39;00m\u001B[38;5;124m does not exist!\u001B[39m\u001B[38;5;124m\"\u001B[39m\u001B[38;5;241m.\u001B[39mformat(filename_bytes))\n\u001B[0;32m---> 66\u001B[0m \u001B[43mparser\u001B[49m\u001B[38;5;241;43m.\u001B[39;49m\u001B[43mparse\u001B[49m\u001B[43m(\u001B[49m\u001B[43mfilename_bytes\u001B[49m\u001B[43m)\u001B[49m\n\u001B[1;32m     68\u001B[0m result \u001B[38;5;241m=\u001B[39m OrderedDict()\n\u001B[1;32m     69\u001B[0m \u001B[38;5;28;01mfor\u001B[39;00m table_index, table \u001B[38;5;129;01min\u001B[39;00m \u001B[38;5;28menumerate\u001B[39m(parser\u001B[38;5;241m.\u001B[39mtable_data):\n",
      "File \u001B[0;32m~/software/anaconda3/envs/Tres/lib/python3.10/site-packages/pyreadr/librdata.pyx:149\u001B[0m, in \u001B[0;36mpyreadr.librdata.Parser.parse\u001B[0;34m()\u001B[0m\n",
      "File \u001B[0;32m~/software/anaconda3/envs/Tres/lib/python3.10/site-packages/pyreadr/librdata.pyx:178\u001B[0m, in \u001B[0;36mpyreadr.librdata.Parser.parse\u001B[0;34m()\u001B[0m\n",
      "\u001B[0;31mLibrdataError\u001B[0m: The file contains an unrecognized object"
     ]
    }
   ],
   "source": [
    "import pyreadr\n",
    "path = '/sibcb2/bioinformatics2/hongyuyang/dataset/Tres/4.macrophage/GSE168710/GSE168710_QC_normalized_exp.rds'\n",
    "file = pyreadr.read_r(path)\n",
    "print(file.keys())"
   ]
  },
  {
   "cell_type": "code",
   "outputs": [],
   "source": [],
   "metadata": {
    "collapsed": false
   },
   "id": "2130af0e2e4244c4"
  }
 ],
 "metadata": {
  "kernelspec": {
   "display_name": "Python 3",
   "language": "python",
   "name": "python3"
  },
  "language_info": {
   "codemirror_mode": {
    "name": "ipython",
    "version": 2
   },
   "file_extension": ".py",
   "mimetype": "text/x-python",
   "name": "python",
   "nbconvert_exporter": "python",
   "pygments_lexer": "ipython2",
   "version": "2.7.6"
  }
 },
 "nbformat": 4,
 "nbformat_minor": 5
}
